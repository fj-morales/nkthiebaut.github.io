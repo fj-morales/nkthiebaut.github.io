{
 "cells": [
  {
   "cell_type": "markdown",
   "metadata": {},
   "source": [
    "# Few-shot learning on textual data with siamese neural networks"
   ]
  },
  {
   "cell_type": "markdown",
   "metadata": {},
   "source": [
    "If you're doing machine learning and meet a classification problem with many categories and few examples per category, it is usually thought that you're in trouble. Unfortunately, acquiring new data to solve this issue is not always easy or even doable. This problem of learning with only a few examples per category is called \"few-shot learning\", and \"one-shot learning\" in the extreme case of only one example per class (yes, you can even do this and [obtain decent results](https://www.cs.cmu.edu/~rsalakhu/papers/oneshot1.pdf)!). \n",
    "\n",
    "Most of the machine learning research on one-shot learning involves images, but some [recent research papers](https://arxiv.org/abs/1710.10280) address the same problem in the Natural Language Processing (NLP) realm.\n",
    "\n",
    "In this blog post, I will use siamese neural network to tackle few-shot learning , following a [method that was originally applied to images](https://www.cs.cmu.edu/~rsalakhu/papers/oneshot1.pdf) and that is nicely explained [here](https://sorenbouma.github.io/blog/oneshot/).\n",
    "\n",
    "A nice example of a few-shot learning problem in NLP is job title classification. If you want to group job titles in different categories or \"occupations\" (e.g. gather \"Programmer\" and \"Software engineer\" in an occupation, and \" in another one), then unless you have hundreds of job titles examples per occupation you are facing a few-shot learning problem. The U.S government provides such a job title taxonomy: the [Standard Occupational Classification](https://www.bls.gov/soc/). I'll use it as a toy dataset understand how few-shot learning with siamese neural networks works.\n",
    "\n",
    "Let's start by downloading the taxonomy and check what's in there."
   ]
  },
  {
   "cell_type": "code",
   "execution_count": 36,
   "metadata": {},
   "outputs": [
    {
     "data": {
      "text/html": [
       "<div>\n",
       "<style scoped>\n",
       "    .dataframe tbody tr th:only-of-type {\n",
       "        vertical-align: middle;\n",
       "    }\n",
       "\n",
       "    .dataframe tbody tr th {\n",
       "        vertical-align: top;\n",
       "    }\n",
       "\n",
       "    .dataframe thead th {\n",
       "        text-align: right;\n",
       "    }\n",
       "</style>\n",
       "<table border=\"1\" class=\"dataframe\">\n",
       "  <thead>\n",
       "    <tr style=\"text-align: right;\">\n",
       "      <th></th>\n",
       "      <th>O*NET-SOC Code</th>\n",
       "      <th>Reported Job Title</th>\n",
       "    </tr>\n",
       "  </thead>\n",
       "  <tbody>\n",
       "    <tr>\n",
       "      <th>0</th>\n",
       "      <td>11-1011.00</td>\n",
       "      <td>chief diversity officer (cdo)</td>\n",
       "    </tr>\n",
       "    <tr>\n",
       "      <th>1</th>\n",
       "      <td>11-1011.00</td>\n",
       "      <td>chief executive officer (ceo)</td>\n",
       "    </tr>\n",
       "    <tr>\n",
       "      <th>2</th>\n",
       "      <td>11-1011.00</td>\n",
       "      <td>chief financial officer (cfo)</td>\n",
       "    </tr>\n",
       "    <tr>\n",
       "      <th>3</th>\n",
       "      <td>11-1011.00</td>\n",
       "      <td>chief nursing officer</td>\n",
       "    </tr>\n",
       "    <tr>\n",
       "      <th>4</th>\n",
       "      <td>11-1011.00</td>\n",
       "      <td>chief operating officer (coo)</td>\n",
       "    </tr>\n",
       "    <tr>\n",
       "      <th>5</th>\n",
       "      <td>11-1011.00</td>\n",
       "      <td>executive director</td>\n",
       "    </tr>\n",
       "    <tr>\n",
       "      <th>6</th>\n",
       "      <td>11-1011.00</td>\n",
       "      <td>executive vice president (evp)</td>\n",
       "    </tr>\n",
       "    <tr>\n",
       "      <th>7</th>\n",
       "      <td>11-1011.00</td>\n",
       "      <td>operations vice president</td>\n",
       "    </tr>\n",
       "    <tr>\n",
       "      <th>8</th>\n",
       "      <td>11-1011.00</td>\n",
       "      <td>president</td>\n",
       "    </tr>\n",
       "    <tr>\n",
       "      <th>9</th>\n",
       "      <td>11-1011.00</td>\n",
       "      <td>vice president</td>\n",
       "    </tr>\n",
       "    <tr>\n",
       "      <th>10</th>\n",
       "      <td>11-1011.03</td>\n",
       "      <td>corporate sustainability process manager</td>\n",
       "    </tr>\n",
       "    <tr>\n",
       "      <th>11</th>\n",
       "      <td>11-1011.03</td>\n",
       "      <td>director of sustainability</td>\n",
       "    </tr>\n",
       "    <tr>\n",
       "      <th>12</th>\n",
       "      <td>11-1011.03</td>\n",
       "      <td>director of sustainability programs</td>\n",
       "    </tr>\n",
       "    <tr>\n",
       "      <th>13</th>\n",
       "      <td>11-1011.03</td>\n",
       "      <td>director of sustainable design</td>\n",
       "    </tr>\n",
       "    <tr>\n",
       "      <th>14</th>\n",
       "      <td>11-1011.03</td>\n",
       "      <td>supply chain manager, sustainability and energy</td>\n",
       "    </tr>\n",
       "    <tr>\n",
       "      <th>15</th>\n",
       "      <td>11-1011.03</td>\n",
       "      <td>sustainability coordinator</td>\n",
       "    </tr>\n",
       "    <tr>\n",
       "      <th>16</th>\n",
       "      <td>11-1011.03</td>\n",
       "      <td>sustainability director</td>\n",
       "    </tr>\n",
       "    <tr>\n",
       "      <th>17</th>\n",
       "      <td>11-1011.03</td>\n",
       "      <td>vice president, corporate social responsibilit...</td>\n",
       "    </tr>\n",
       "    <tr>\n",
       "      <th>18</th>\n",
       "      <td>11-1021.00</td>\n",
       "      <td>business manager</td>\n",
       "    </tr>\n",
       "    <tr>\n",
       "      <th>19</th>\n",
       "      <td>11-1021.00</td>\n",
       "      <td>facilities manager</td>\n",
       "    </tr>\n",
       "  </tbody>\n",
       "</table>\n",
       "</div>"
      ],
      "text/plain": [
       "   O*NET-SOC Code                                 Reported Job Title\n",
       "0      11-1011.00                      chief diversity officer (cdo)\n",
       "1      11-1011.00                      chief executive officer (ceo)\n",
       "2      11-1011.00                      chief financial officer (cfo)\n",
       "3      11-1011.00                              chief nursing officer\n",
       "4      11-1011.00                      chief operating officer (coo)\n",
       "5      11-1011.00                                 executive director\n",
       "6      11-1011.00                     executive vice president (evp)\n",
       "7      11-1011.00                          operations vice president\n",
       "8      11-1011.00                                          president\n",
       "9      11-1011.00                                     vice president\n",
       "10     11-1011.03           corporate sustainability process manager\n",
       "11     11-1011.03                         director of sustainability\n",
       "12     11-1011.03                director of sustainability programs\n",
       "13     11-1011.03                     director of sustainable design\n",
       "14     11-1011.03    supply chain manager, sustainability and energy\n",
       "15     11-1011.03                         sustainability coordinator\n",
       "16     11-1011.03                            sustainability director\n",
       "17     11-1011.03  vice president, corporate social responsibilit...\n",
       "18     11-1021.00                                   business manager\n",
       "19     11-1021.00                                 facilities manager"
      ]
     },
     "execution_count": 36,
     "metadata": {},
     "output_type": "execute_result"
    }
   ],
   "source": [
    "from io import StringIO\n",
    "import requests\n",
    "import pandas as pd\n",
    "\n",
    "# Download the Standard Occupation Classification\n",
    "file_url = 'https://www.onetcenter.org/dl_files/database/db_20_1_text/Sample%20of%20Reported%20Titles.txt'\n",
    "csv = StringIO(requests.get(file_url).text)\n",
    "\n",
    "# Load it in a pandas DataFrame and drop a useless column\n",
    "df = pd.read_csv(csv, sep='\\t').drop('Shown in My Next Move', axis=1)\n",
    "\n",
    "# Remove occupations for which we have only one example, because\n",
    "# We can't even have a train a test examples for those\n",
    "occupations_counts = df['O*NET-SOC Code'].value_counts()\n",
    "multi_examples_occupations = occupations_counts[occupations_counts > 1].index\n",
    "df = df[df['O*NET-SOC Code'].isin(multi_examples_occupations)]\n",
    "\n",
    "# Lower all job titles for simplicity\n",
    "df['Reported Job Title'] = df['Reported Job Title'].str.lower()\n",
    "\n",
    "df.head(20)"
   ]
  },
  {
   "cell_type": "markdown",
   "metadata": {},
   "source": [
    "The downloaded file contains job categories codes (first column) and samples of job titles that belong to those categories. To get categories description type the occupation code [here](https://www.onetonline.org/help/online/search). For instance, the first occupation (11-1011.00) is called \"Chief Executives\" as one can guess from the corresponding job titles examples.\n",
    "\n",
    "Let's investigate a bit:"
   ]
  },
  {
   "cell_type": "code",
   "execution_count": 23,
   "metadata": {},
   "outputs": [
    {
     "data": {
      "text/plain": [
       "O*NET-SOC Code         954\n",
       "Reported Job Title    7172\n",
       "dtype: int64"
      ]
     },
     "execution_count": 23,
     "metadata": {},
     "output_type": "execute_result"
    }
   ],
   "source": [
    "df.nunique()  # Count the number of different modalities in each column"
   ]
  },
  {
   "cell_type": "markdown",
   "metadata": {},
   "source": [
    "So we have 954 categories (\"occupations\") for 7172 examples, i.e. 7.5 examples per category on average. We are definitely in the few-shot learning setting. \n",
    "\n",
    "Before proceeding with modelling let's create a train and test sets, by putting one example in the test set for each class."
   ]
  },
  {
   "cell_type": "code",
   "execution_count": 46,
   "metadata": {},
   "outputs": [],
   "source": [
    "test_set = df.groupby('O*NET-SOC Code', as_index=False)['Reported Job Title'].first()\n",
    "train_set = df[~df['Reported Job Title'].isin(test_set['Reported Job Title'])]\n",
    "\n",
    "x_train, y_train = train_set['Reported Job Title'], train_set['O*NET-SOC Code']\n",
    "x_test, y_test = test_set['Reported Job Title'], test_set['O*NET-SOC Code']"
   ]
  },
  {
   "cell_type": "markdown",
   "metadata": {},
   "source": [
    "## Building a baseline\n",
    "\n",
    "Before experimenting with fancy models, let's establish a strong baseline. We can start by using word embeddings to get a vector representation of each job title, and use a nearest neighbor classifier that is a less likely to overfit than tree-based models or parametric classifiers.\n",
    "\n",
    "To get the representation of a sentence from pre-trained word embeddings I'll use [Zeugma](https://github.com/nkthiebaut/zeugma), an NLP python library I've written that provides pre-trained word embeddings in the form [scikit-learn transformers](http://scikit-learn.org/stable/modules/pipeline.html)."
   ]
  },
  {
   "cell_type": "code",
   "execution_count": 38,
   "metadata": {},
   "outputs": [
    {
     "name": "stderr",
     "output_type": "stream",
     "text": [
      "Using TensorFlow backend.\n"
     ]
    }
   ],
   "source": [
    "from zeugma import EmbeddingTransformer\n",
    "\n",
    "# We'll use the GloVe pre-trained embeddings, using the sum of the word embeddings\n",
    "# of a job title as the embedding vector\n",
    "embedding = EmbeddingTransformer('glove', aggregation='sum')"
   ]
  },
  {
   "cell_type": "code",
   "execution_count": 47,
   "metadata": {},
   "outputs": [],
   "source": [
    "from sklearn.pipeline import make_pipeline\n",
    "from sklearn.neighbors import KNeighborsClassifier\n",
    "\n",
    "# Our model is a nearest neighbor classifier, the input of which is the sum of the \n",
    "# embeddings of words in the job title.\n",
    "clf = KNeighborsClassifier(n_neighbors=1)\n",
    "baseline = make_pipeline(embedding, clf)"
   ]
  },
  {
   "cell_type": "code",
   "execution_count": 54,
   "metadata": {},
   "outputs": [
    {
     "name": "stdout",
     "output_type": "stream",
     "text": [
      "Train accuracy (baseline): 79.42 %\n",
      "Test accuracy (baseline): 12.26 %\n"
     ]
    }
   ],
   "source": [
    "baseline.fit(x_train, y_train)\n",
    "print('Train accuracy (baseline): {:.2f} %'.format(100*baseline.score(x_train, y_train)))\n",
    "print('Test accuracy (baseline): {:.2f} %'.format(100*baseline.score(x_test, y_test)))"
   ]
  },
  {
   "cell_type": "markdown",
   "metadata": {},
   "source": [
    "Definitely not great but not too bad for a simple baseline model, considering a random guess would have a $\\frac{1}{n_{\\text{classes}}} \\simeq 0.1 \\%$ accuracy. \n",
    "\n",
    "It may seem hard to beat this simple baseline with a deep learning model due to the high chances of overfitting with such a small datasets, but here come siamese networks to the rescue."
   ]
  },
  {
   "cell_type": "markdown",
   "metadata": {},
   "source": [
    "## Few-shot learning with siamese neural networks\n",
    "\n",
    "The nearest neighbor model of the previous section is preforming quite well despite its simplicity, because it uses word embeddings learnt on the twitter dataset. This is the basic principle of [transfer learning](https://en.wikipedia.org/wiki/Transfer_learning).\n",
    "\n",
    "Nevertheless, the embedding space used to determine nearest neighbors knows nothing about job titles in particular. There must be a way to learn an embedding space in which jobs belonging to the same occupation category are closer. This is where siamese networks come into play.\n",
    "\n",
    "The main idea of siamese networks is to learn such a representation by training a model to discriminate between pairs of examples that are in the same category, and pairs of examples that come from different categories. \n",
    "\n",
    "To be continued, stay tuned!"
   ]
  }
 ],
 "metadata": {
  "kernelspec": {
   "display_name": "Python 3",
   "language": "python",
   "name": "python3"
  },
  "language_info": {
   "codemirror_mode": {
    "name": "ipython",
    "version": 3
   },
   "file_extension": ".py",
   "mimetype": "text/x-python",
   "name": "python",
   "nbconvert_exporter": "python",
   "pygments_lexer": "ipython3",
   "version": "3.6.5"
  }
 },
 "nbformat": 4,
 "nbformat_minor": 2
}
