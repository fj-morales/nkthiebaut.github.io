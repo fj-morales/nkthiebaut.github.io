{
 "cells": [
  {
   "cell_type": "markdown",
   "metadata": {},
   "source": [
    "# Experiments with the LIME interpretation model\n",
    "\n",
    "In this blog post I will share experiments on the LIME (Local Interpretable Model-agnostic Explanations) interpretation model. LIME was introduced in 2016 by Marco Ribeiro and his collaborators in a paper called [“Why Should I Trust You?” Explaining the Predictions of Any Classifier](https://arxiv.org/abs/1602.04938). The purpose of this method is to explain a model prediction for a specific sample in a human-interpretable way. \n",
    "\n",
    "It brings a way to investigate a model predictions beyond the sole classification or regression standard metrics. It also may provide explanations to individuals when they are refused a loan or job on the basis of a scoring model, or in other critical situations like the one listed [in this very good book](https://weaponsofmathdestructionbook.com).\n",
    "\n",
    "In order to set the playground I first build a quick model on the [IMDB](www.imdb.com) sentiment analysis dataset, which contains movie reviews with an associated sentiment (0 for negative, 1 for positive). Data was downloaded [on kaggle](https://www.kaggle.com/c/word2vec-nlp-tutorial/download/labeledTrainData.tsv.zip), let's have a look at it.\n"
   ]
  },
  {
   "cell_type": "code",
   "execution_count": 1,
   "metadata": {},
   "outputs": [
    {
     "data": {
      "text/html": [
       "<div>\n",
       "<style>\n",
       "    .dataframe thead tr:only-child th {\n",
       "        text-align: right;\n",
       "    }\n",
       "\n",
       "    .dataframe thead th {\n",
       "        text-align: left;\n",
       "    }\n",
       "\n",
       "    .dataframe tbody tr th {\n",
       "        vertical-align: top;\n",
       "    }\n",
       "</style>\n",
       "<table border=\"1\" class=\"dataframe\">\n",
       "  <thead>\n",
       "    <tr style=\"text-align: right;\">\n",
       "      <th></th>\n",
       "      <th>id</th>\n",
       "      <th>sentiment</th>\n",
       "      <th>review</th>\n",
       "    </tr>\n",
       "  </thead>\n",
       "  <tbody>\n",
       "    <tr>\n",
       "      <th>0</th>\n",
       "      <td>5814_8</td>\n",
       "      <td>1</td>\n",
       "      <td>With all this stuff going down at the moment w...</td>\n",
       "    </tr>\n",
       "    <tr>\n",
       "      <th>1</th>\n",
       "      <td>2381_9</td>\n",
       "      <td>1</td>\n",
       "      <td>\\The Classic War of the Worlds\\\" by Timothy Hi...</td>\n",
       "    </tr>\n",
       "    <tr>\n",
       "      <th>2</th>\n",
       "      <td>7759_3</td>\n",
       "      <td>0</td>\n",
       "      <td>The film starts with a manager (Nicholas Bell)...</td>\n",
       "    </tr>\n",
       "    <tr>\n",
       "      <th>3</th>\n",
       "      <td>3630_4</td>\n",
       "      <td>0</td>\n",
       "      <td>It must be assumed that those who praised this...</td>\n",
       "    </tr>\n",
       "    <tr>\n",
       "      <th>4</th>\n",
       "      <td>9495_8</td>\n",
       "      <td>1</td>\n",
       "      <td>Superbly trashy and wondrously unpretentious 8...</td>\n",
       "    </tr>\n",
       "  </tbody>\n",
       "</table>\n",
       "</div>"
      ],
      "text/plain": [
       "       id  sentiment                                             review\n",
       "0  5814_8          1  With all this stuff going down at the moment w...\n",
       "1  2381_9          1  \\The Classic War of the Worlds\\\" by Timothy Hi...\n",
       "2  7759_3          0  The film starts with a manager (Nicholas Bell)...\n",
       "3  3630_4          0  It must be assumed that those who praised this...\n",
       "4  9495_8          1  Superbly trashy and wondrously unpretentious 8..."
      ]
     },
     "execution_count": 1,
     "metadata": {},
     "output_type": "execute_result"
    }
   ],
   "source": [
    "import pandas as pd\n",
    "df = pd.read_csv('./labeledTrainData.tsv', sep='\\t')\n",
    "df.head()"
   ]
  },
  {
   "cell_type": "markdown",
   "metadata": {},
   "source": [
    "## Text preprocessing\n",
    "\n",
    "Here I simply replace rare words with an \"oov\" (out-of-vocabulary) tag. This step is crucial as rare words (tipically less than 10 occurences) do not appear often enough for the model to learn pattern with it, and even worse they increase the vector space representation dimension dramatically with most text vectorization method (such as bag-of-words or TF-IDF)."
   ]
  },
  {
   "cell_type": "code",
   "execution_count": 2,
   "metadata": {},
   "outputs": [
    {
     "name": "stdout",
     "output_type": "stream",
     "text": [
      "Vocabulary size before rare words tagging: 257663\n",
      "Vocabulary size after rare words tagging: 25341\n"
     ]
    }
   ],
   "source": [
    "from collections import defaultdict\n",
    "from sklearn.model_selection import train_test_split\n",
    "\n",
    "texts = [t.lower() for t in df['review'].values]\n",
    "y = df['sentiment'].values\n",
    "\n",
    "# 1) Compute word frequencies\n",
    "all_tokens = [token for t in texts for token in t.split()] \n",
    "frequencies = defaultdict(int)\n",
    "for w in all_tokens:\n",
    "    frequencies[w] += 1\n",
    "print('Vocabulary size before rare words tagging:', len(set(all_tokens)))\n",
    "\n",
    "# 2) Replace words occuring less than 10 times in the corpus with an \n",
    "# out-of-vocabulary tag \n",
    "texts = [' '.join([w if frequencies[w] > 10 else '<oov>' \n",
    "                   for w in t.split()])\n",
    "         for t in texts]\n",
    "print('Vocabulary size after rare words tagging:', \n",
    "      len(set([token for t in texts for token in t.split()])))\n",
    "\n",
    "# 3) Split train and test sets (should be done before rare words \n",
    "# tagging in real world applications)\n",
    "texts_train, texts_test, y_train, y_test = \\\n",
    "    train_test_split(texts, y, random_state=42)"
   ]
  },
  {
   "cell_type": "markdown",
   "metadata": {},
   "source": [
    "## Building a simple sentiment prediction pipeline\n",
    "Here I build a simple data transformation pipeline for text classification: a [TF-IDF](https://en.wikipedia.org/wiki/Tf–idf) vectorizer followed by a [random forest classifier](https://en.wikipedia.org/wiki/Random_forest). \n",
    "\n",
    "This classification pipeline is prettty standard but it's output prediction may already be hard enough to interpret in order to highlight LIME's usefulness."
   ]
  },
  {
   "cell_type": "code",
   "execution_count": 3,
   "metadata": {},
   "outputs": [
    {
     "name": "stdout",
     "output_type": "stream",
     "text": [
      "Accuracy: 82.58 %\n",
      "F1-score: 83.19 %\n"
     ]
    }
   ],
   "source": [
    "from sklearn.feature_extraction.text import TfidfVectorizer\n",
    "from sklearn.pipeline import make_pipeline\n",
    "from sklearn.ensemble import RandomForestClassifier\n",
    "from sklearn import metrics\n",
    "\n",
    "vectorizer = TfidfVectorizer()\n",
    "classifier = RandomForestClassifier(n_estimators=100, max_depth=10)\n",
    "\n",
    "pipeline = make_pipeline(vectorizer, classifier)\n",
    "\n",
    "pipeline.fit(texts_train, y_train)\n",
    "y_preds = pipeline.predict(texts_test)\n",
    "\n",
    "print('Accuracy: {:.2f} %'.format(100*metrics.accuracy_score(y_preds, y_test)))\n",
    "print('F1-score: {:.2f} %'.format(100*metrics.f1_score(y_preds, y_test)))"
   ]
  },
  {
   "cell_type": "markdown",
   "metadata": {},
   "source": [
    "## Analysis: what has the model learnt?\n",
    "A F1-score of 80% is already enjoyable for some classification tasks, but **we have no idea if the classifier has learnt useful features yet**. \n",
    "\n",
    "For instance an additional HTML tag may have been added to the positive examples by the IMDB database system, in which case our classifier would have a nice score but would only learn to recognize this artificial tag presence. This situation happens quite often in data science as some variable \"from the future\" sometimes leak in your dataset. \n",
    "\n",
    "To avoid such ungeneralizable model training, one has to investigate the model prediction in addition to computing  its performance on a test set."
   ]
  },
  {
   "cell_type": "markdown",
   "metadata": {},
   "source": [
    "### Feature importance\n",
    "\n",
    "A standard way to understand the predictions of a trained random forest classifier is to compute feature (Gini) importance. Feature importance in trees is computed as the (normalized) mean Gini impurity reduction brought by the features. In a word it describes how well the feature splits classes in your trees. "
   ]
  },
  {
   "cell_type": "code",
   "execution_count": 4,
   "metadata": {},
   "outputs": [
    {
     "data": {
      "image/png": "[encoded data removed]",
      "text/plain": [
       "<matplotlib.figure.Figure at 0x1305c7908>"
      ]
     },
     "metadata": {},
     "output_type": "display_data"
    }
   ],
   "source": [
    "import seaborn as sns\n",
    "%matplotlib inline\n",
    "\n",
    "# Create a dictionary with most important features\n",
    "importances = pipeline.named_steps['randomforestclassifier'].feature_importances_\n",
    "top_indices = np.argsort(importances)[::-1][:10]\n",
    "features_names = np.array(vectorizer.get_feature_names())\n",
    "words_importance = pd.DataFrame({'most_important_words': features_names[top_indices],\n",
    "                                 'importance': importances[top_indices]})\n",
    "\n",
    "sns.barplot(x=\"most_important_words\", y=\"importance\", data=words_importance)\n",
    "plt.xticks(rotation=45)\n",
    "plt.title('Global features importance: top words');"
   ]
  },
  {
   "cell_type": "markdown",
   "metadata": {},
   "source": [
    "So now we have the most important words on average on the training set. The most important words make sense, but\n",
    "* We **don't know if a word contributes positively or negatively**\n",
    "* The feature importance attribute is **specific to tree-based models**\n",
    "* If we **don't undestand specific predictions**, we cannot investigate the model if we doubt a given prediction\n",
    "\n",
    "For the last point there is a work-around: we can compute the model importance of the words that are present in a specific text. \n",
    "\n",
    "Here is an example:"
   ]
  },
  {
   "cell_type": "code",
   "execution_count": 5,
   "metadata": {},
   "outputs": [
    {
     "name": "stdout",
     "output_type": "stream",
     "text": [
      "this film pulls you in from the <oov> because it grabs our attention by <oov> yeah, that this story is opening with a cliché  a <oov> /><br />in hands other than <oov> i wouldn't have given it an 8 as this material has been done over and over again: the great reunion of a once famous, pick one please, team, army <oov> theatre group, singers, <oov> /><br />but this movie never <oov> to cheap <oov> and when you think it is going to it <oov> off in another direction. a case in point is the flowers that are sent by an admirer to <oov> /><br />the band members are an interesting group and ride above the clichés too. one is in jail, one has found religion, one is an <oov> and one has sunk into <oov> but the <oov> de <oov> rediscovered by <oov> <oov> by her <oov> interest, carries us along and makes us overlook the sometimes simplistic nature of the plot.<br /><br />the cast are a who's who of talent, leslie caron, the incomparable <oov> cleo <oov> with her amazing high notes, a last performance from joan <oov> <oov> <oov> a cute as a button flirtatious ian holm having a ball, and olympia dukakis as a <oov> <oov> living in the <oov> of scotland with her <oov> and her <oov> the closing scene is standard <oov> fare, the <oov> children of the star converted to fun-loving <oov> the old lovers <oov> the youngsters swept up in the old <oov> music. life should be this simple. but i would watch it again, and intend to, with my own <oov> for in the right hands, sometimes one just loves these <oov> old clichés. 8 out of 10.\n",
      "--------------------------------------------------\n",
      "Probability(positive) = 0.582517738446\n",
      "True class: positive\n"
     ]
    }
   ],
   "source": [
    "# We choose a sample from test set\n",
    "idx = 1\n",
    "text_sample = texts_test[idx]\n",
    "class_names = ['negative', 'positive']\n",
    "\n",
    "print(text_sample)\n",
    "print('-'*50)\n",
    "print('Probability(positive) =', pipeline.predict_proba([text_sample])[0,1])\n",
    "print('True class: %s' % class_names[y_test[idx]])"
   ]
  },
  {
   "cell_type": "code",
   "execution_count": 6,
   "metadata": {},
   "outputs": [
    {
     "data": {
      "image/png": "[encoded data removed]",
      "text/plain": [
       "<matplotlib.figure.Figure at 0x130668a20>"
      ]
     },
     "metadata": {},
     "output_type": "display_data"
    }
   ],
   "source": [
    "sample_importances = (vectorizer.transform([text_sample]).toarray()*importances).flatten()\n",
    "sample_top_indices = np.argsort(sample_importances)[::-1][:10]\n",
    "sample_words_importance = pd.DataFrame(\n",
    "    {'most_important_words': np.array(vectorizer.get_feature_names())[sample_top_indices],\n",
    "    'importance': sample_importances[sample_top_indices]})\n",
    "\n",
    "sns.barplot(x=\"most_important_words\", y=\"importance\", data=sample_words_importance)\n",
    "plt.xticks(rotation=45)\n",
    "plt.title('Sample {} features importance: top words'.format(idx));"
   ]
  },
  {
   "cell_type": "markdown",
   "metadata": {},
   "source": [
    "Although the importance of \"and\" is hard to interpret, we see that some important words like great, amazing or cheap are indeed reasonable predictors for the sentiment of a review.\n",
    " \n",
    "### Example specific analysis with LIME\n",
    "In their article [“Why Should I Trust You?” Explaining the Predictions of Any Classifier](https://arxiv.org/abs/1602.04938), Marco Ribeiro and his collaborators introduce a new framework for machine learning models interpretation called LIME (Local Interpretable Model-agnostic Explanations). \n",
    "\n",
    "The purpose of LIME is to give an **interpretable explanation for a given input sample prediction**, by locally approximating the model to be explained $f$ by an \"explanation model\" $g$ that is linear and has an interpretable domain. While your original model may operate on a complex vector space such as the TF-IDF representation of a text, or the HOG features of a picture, the explanation model's domain is a human interpretable one, such as a vector indicating the presence or absence of a few critical words in a text.\n",
    "\n",
    "LIME requires:\n",
    "* A **mapping $x\\rightarrow x'$ of the model input vector to an interpretable representation $\\{0,1\\}^{d'}$**. Here, while the original $x$ may be a complex vector in $\\mathbb{R}^n$, the vector $x'$ just indicates the absence/ presence of basic features (words for text, pixels for pictures).\n",
    "* A **proximity measure function $\\Pi_{x}$** measuring closeness to the sample $x$ under scrutiny. Usually a normal distribution over the distance (cosine distance for texts, L2-norm for pictures). \n",
    "* A **choice for the interpetable model $g$**. The first choice is a linear model (i.e. a linear regression for regression and a logistic regression for classification).\n",
    "\n",
    "\n",
    "Technically, for a given sample $x\\in\\mathbb{R}^d$ to be explained we determine the corresponding interpretable vector $x'\\in\\{0,1\\}^{d'}$ in the explanable feature space. We generate a set of $N$ artificial points $z_i'$ around it, by randomly cancelling coordinates or $x'$ (cancellations are chosen with a uniform distribution). We then fit a simple model $g$ (K-LASSO, i.e. a logistic regression with at most $K$ non-zero weights) that must reproduce the predictions of $f$ at best by minimizing the dissimilarity function \n",
    "\n",
    "$$\\mathcal{L}(f, g, \\Pi_x)= \\sum_{z, z'} \\Pi_x(z) \\left[f(z) - g(z') \\right]^2.$$ Note that the dissimilarity between the investigated mode $f$ and the interpretable model $g$ is 0 when $f$ and $g$ give the exact same predictions (which is why $\\mathcal{L}$ minimization is also called \"local fidelity maximization\"). Also, dissimilarities are weighted by the $\\Pi_x$ proximity between random samples $z$ and the original sample $x$ under investigation, such that predictions discrepancies far away from $x$ are less penalized.\n",
    "\n",
    "Let's take an example:\n",
    "* Suppose we investigate the prediction of a a sentiment classification model $f$ for the sentence \"am quite happy\", that is scored $0.7$ by $f$.\n",
    "* Assume that due to our corpus the TF-IDF representation of the sentence \"am quite happy\" is $x=(0.2, 0.3, 0.1, 0, \\dots)$, i.e. the first 3 coordinates correspond to the words \"am\", \"quite\" and \"happy\" in our corpus.\n",
    "* The interpretable vector corresponding to $x$ is $x'=(1, 1, 1, 0, \\dots)$. \n",
    "* In order to define a neighborhood of $x'$ we generate some sparser samples $z_1'=(1, 0, 1, 0, \\dots)$ and $z_2'=(1, 0, 0, 0, \\dots)$ in the vicinity of $x'$.\n",
    "* We compute the corresponding vectors in the original space: $z_1=(0.2, 0, 0.1, 0, \\dots)$ and $z_2=(0.2, 0, 0, 0, \\dots)$\n",
    "* We compute the $d'$ weights of the explanation model $g$ by minimization of dissimilarity $\\mathcal{L}$  with $f$ predictions (only $K$ of the $g$ function weights will be non-zero, were $K$ is an hyperparameter of LIME). For example if we obtain the following weights $(0, -0.5, 1.2, \\dots)$, that means the presence of the word \"quite\" contributes negatively to the prediction, with weight $-0.5$, while the word \"happy\" contributes positively, with weight $1.2$.\n",
    "\n",
    "\n",
    "Simple examples can be found on the [Github repository of the project](https://marcotcr.github.io/lime/tutorials/Lime%20-%20basic%20usage%2C%20two%20class%20case.html).\n",
    "\n",
    "For the example investigated above, LIME outputs the following important variables.\n"
   ]
  },
  {
   "cell_type": "code",
   "execution_count": 8,
   "metadata": {},
   "outputs": [
    {
     "data": {
      "image/png": "[encoded data removed]",
      "text/plain": [
       "<matplotlib.figure.Figure at 0x132547ef0>"
      ]
     },
     "metadata": {},
     "output_type": "display_data"
    }
   ],
   "source": [
    "from collections import OrderedDict\n",
    "from lime.lime_text import LimeTextExplainer\n",
    "\n",
    "explainer = LimeTextExplainer(class_names=class_names)\n",
    "explanation = explainer.explain_instance(text_sample, pipeline.predict_proba, num_features=10)\n",
    "\n",
    "weights = OrderedDict(explanation.as_list())\n",
    "lime_weights = pd.DataFrame({'words': list(weights.keys()), 'weights': list(weights.values())})\n",
    "\n",
    "sns.barplot(x=\"words\", y=\"weights\", data=lime_weights);\n",
    "plt.xticks(rotation=45)\n",
    "plt.title('Sample {} features weights given by LIME'.format(idx));"
   ]
  },
  {
   "cell_type": "markdown",
   "metadata": {},
   "source": [
    "LIME managed to extract mostly the same important words as the model itself, without knowing anything about it! Moreover we now have rational numbers, allowing the human interpreter to understand if the contribution was negative or positive for each word of the sample. Finally, this technique can be replicated instantly for any model, so let's try with a neural network! ([next blog post](https://nkthiebaut.github.io/deep-lime.html#deep-lime) :)"
   ]
  }
 ],
 "metadata": {
  "anaconda-cloud": {},
  "kernelspec": {
   "display_name": "Python 3",
   "language": "python",
   "name": "python3"
  },
  "language_info": {
   "codemirror_mode": {
    "name": "ipython",
    "version": 3
   },
   "file_extension": ".py",
   "mimetype": "text/x-python",
   "name": "python",
   "nbconvert_exporter": "python",
   "pygments_lexer": "ipython3",
   "version": "3.5.4"
  }
 },
 "nbformat": 4,
 "nbformat_minor": 2
}
