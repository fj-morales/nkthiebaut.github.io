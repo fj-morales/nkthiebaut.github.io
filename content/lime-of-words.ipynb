{
 "cells": [
  {
   "cell_type": "markdown",
   "metadata": {
    "collapsed": false
   },
   "source": [
    "# Experiments with the LIME interpretation model\n",
    "\n",
    "In this blog post I will share some experiments on the LIME interpretation model. LIME was introduced in 2016 by Marco Ribeiro and his collaborators in a paper called [“Why Should I Trust You?” Explaining the Predictions of Any Classifier](https://arxiv.org/abs/1602.04938). Its purpose is to explain a model prediction for a specific sample in a human-interpretable way. It provides a way to investigate a model predictions beyond the sole classification or regression metric. \n",
    "\n",
    "In order to set the playground I first build a quick model on the [IMDB](www.imdb.com) sentiment analysis dataset, which contains movie reviews with an associated sentiment (0 for negative, 1 for positive). Data was downloaded [on kaggle](https://www.kaggle.com/c/word2vec-nlp-tutorial/download/labeledTrainData.tsv.zip). \n"
   ]
  },
  {
   "cell_type": "code",
   "execution_count": 1,
   "metadata": {
    "collapsed": false
   },
   "outputs": [
    {
     "data": {
      "text/html": [
       "<div>\n",
       "<style>\n",
       "    .dataframe thead tr:only-child th {\n",
       "        text-align: right;\n",
       "    }\n",
       "\n",
       "    .dataframe thead th {\n",
       "        text-align: left;\n",
       "    }\n",
       "\n",
       "    .dataframe tbody tr th {\n",
       "        vertical-align: top;\n",
       "    }\n",
       "</style>\n",
       "<table border=\"1\" class=\"dataframe\">\n",
       "  <thead>\n",
       "    <tr style=\"text-align: right;\">\n",
       "      <th></th>\n",
       "      <th>id</th>\n",
       "      <th>sentiment</th>\n",
       "      <th>review</th>\n",
       "    </tr>\n",
       "  </thead>\n",
       "  <tbody>\n",
       "    <tr>\n",
       "      <th>0</th>\n",
       "      <td>5814_8</td>\n",
       "      <td>1</td>\n",
       "      <td>With all this stuff going down at the moment w...</td>\n",
       "    </tr>\n",
       "    <tr>\n",
       "      <th>1</th>\n",
       "      <td>2381_9</td>\n",
       "      <td>1</td>\n",
       "      <td>\\The Classic War of the Worlds\\\" by Timothy Hi...</td>\n",
       "    </tr>\n",
       "    <tr>\n",
       "      <th>2</th>\n",
       "      <td>7759_3</td>\n",
       "      <td>0</td>\n",
       "      <td>The film starts with a manager (Nicholas Bell)...</td>\n",
       "    </tr>\n",
       "    <tr>\n",
       "      <th>3</th>\n",
       "      <td>3630_4</td>\n",
       "      <td>0</td>\n",
       "      <td>It must be assumed that those who praised this...</td>\n",
       "    </tr>\n",
       "    <tr>\n",
       "      <th>4</th>\n",
       "      <td>9495_8</td>\n",
       "      <td>1</td>\n",
       "      <td>Superbly trashy and wondrously unpretentious 8...</td>\n",
       "    </tr>\n",
       "  </tbody>\n",
       "</table>\n",
       "</div>"
      ],
      "text/plain": [
       "       id  sentiment                                             review\n",
       "0  5814_8          1  With all this stuff going down at the moment w...\n",
       "1  2381_9          1  \\The Classic War of the Worlds\\\" by Timothy Hi...\n",
       "2  7759_3          0  The film starts with a manager (Nicholas Bell)...\n",
       "3  3630_4          0  It must be assumed that those who praised this...\n",
       "4  9495_8          1  Superbly trashy and wondrously unpretentious 8..."
      ]
     },
     "execution_count": 1,
     "metadata": {},
     "output_type": "execute_result"
    }
   ],
   "source": [
    "import pandas as pd\n",
    "df = pd.read_csv('./labeledTrainData.tsv', sep='\\t')\n",
    "df.head()"
   ]
  },
  {
   "cell_type": "markdown",
   "metadata": {},
   "source": [
    "## Text preprocessing\n",
    "\n",
    "Here I simply replace rare words with an \"oov\" (out-of-vocabulary) tag. This step is crucial as rare words (tipically less than 10 occurences) do not appear often enough for the model to learn pattern with it, and they increase the vector space representation dimension dramatically with most text vectorization method (such as bag-of-words or TF-IDF)."
   ]
  },
  {
   "cell_type": "code",
   "execution_count": 2,
   "metadata": {
    "collapsed": false
   },
   "outputs": [
    {
     "name": "stdout",
     "output_type": "stream",
     "text": [
      "Vocabulary size before rare words tagging: 257663\n",
      "Vocabulary size after rare words tagging: 15351\n"
     ]
    }
   ],
   "source": [
    "from collections import defaultdict\n",
    "from sklearn.model_selection import train_test_split\n",
    "\n",
    "texts = [t.lower() for t in df['review'].values]\n",
    "y = df['sentiment'].values\n",
    "\n",
    "# 1) Compute word frequencies\n",
    "all_tokens = [token for t in texts for token in t.split()] \n",
    "frequencies = defaultdict(int)\n",
    "for w in all_tokens:\n",
    "    frequencies[w] += 1\n",
    "print('Vocabulary size before rare words tagging:', len(set(all_tokens)))\n",
    "\n",
    "# 2) Replace words occuring less than 20 times in the corpus with an out-of-vocabulary tag \n",
    "texts = [' '.join([w if frequencies[w] > 20 else '<oov>' \n",
    "                   for w in t.split()])\n",
    "         for t in texts]\n",
    "print('Vocabulary size after rare words tagging:', len(set([token for t in texts for token in t.split()])))\n",
    "\n",
    "# 3) Split train and test sets (should be done before rare words tagging in real world applications)\n",
    "texts_train, texts_test, y_train, y_test = train_test_split(texts, y)"
   ]
  },
  {
   "cell_type": "markdown",
   "metadata": {},
   "source": [
    "## Building a simple sentiment prediction pipeline\n",
    "Here I build a simple data transformation pipeline for text classification: a [TF-IDF](https://en.wikipedia.org/wiki/Tf–idf) vectorizer followed by a random forest classifier. \n",
    "\n",
    "This classification pipeline is prettty standard but it is already hard to interpret."
   ]
  },
  {
   "cell_type": "code",
   "execution_count": 3,
   "metadata": {
    "collapsed": false
   },
   "outputs": [
    {
     "name": "stdout",
     "output_type": "stream",
     "text": [
      "Accuracy: 81.10 %\n",
      "F1-score: 81.66 %\n"
     ]
    }
   ],
   "source": [
    "from sklearn.feature_extraction.text import TfidfVectorizer\n",
    "from sklearn.pipeline import make_pipeline\n",
    "from sklearn.ensemble import RandomForestClassifier\n",
    "from sklearn import metrics\n",
    "\n",
    "vectorizer = TfidfVectorizer()\n",
    "classifier = RandomForestClassifier(n_estimators=100, max_depth=5)\n",
    "\n",
    "pipeline = make_pipeline(vectorizer, classifier)\n",
    "\n",
    "pipeline.fit(texts_train, y_train)\n",
    "y_preds = pipeline.predict(texts_test)\n",
    "\n",
    "print('Accuracy: {:.2f} %'.format(100*metrics.accuracy_score(y_preds, y_test)))\n",
    "print('F1-score: {:.2f} %'.format(100*metrics.f1_score(y_preds, y_test)))"
   ]
  },
  {
   "cell_type": "markdown",
   "metadata": {},
   "source": [
    "## Analysis: what has the model learnt?\n",
    "A F1-score of 80% is already enjoyable for some classification tasks, but we have no idea if the classifier has learnt useful features yet. For instance an additional HTML tag may have been added to the positive examples for obscure reasons, in which case our classifier would have a nice score but would have mostly learnt to recognize this artificial tag presence. This situation happens more very often in data science has some variable \"from the future\" sometimes leak in your dataset. \n",
    "\n",
    "To avoid such ungeneralizable model training, one has to investigate the model prediction in addition to the computation of the score on a test set."
   ]
  },
  {
   "cell_type": "markdown",
   "metadata": {},
   "source": [
    "### Feature importance\n",
    "\n",
    "A standard way to understand the predictions of a trained random forest classifier is to compute feature (Gini) importance. Feature importance in trees is computed as the (normalized) mean Gini impurity reduction brought by the features. In a word it describes how well the feature splits classes in your trees. "
   ]
  },
  {
   "cell_type": "code",
   "execution_count": 4,
   "metadata": {
    "collapsed": false
   },
   "outputs": [
    {
     "data": {
      "text/plain": [
       "<matplotlib.text.Text at 0x1315fd860>"
      ]
     },
     "execution_count": 4,
     "metadata": {},
     "output_type": "execute_result"
    },
    {
     "data": {
      "image/png": "[encoded data removed]",
      "text/plain": [
       "<matplotlib.figure.Figure at 0x1314e46d8>"
      ]
     },
     "metadata": {},
     "output_type": "display_data"
    }
   ],
   "source": [
    "import seaborn as sns\n",
    "%matplotlib inline\n",
    "\n",
    "# Create a dictionary with most important features\n",
    "importances = pipeline.named_steps['randomforestclassifier'].feature_importances_\n",
    "top_indices = np.argsort(importances)[::-1][:10]\n",
    "words_importance = pd.DataFrame({'most_important_words': np.array(vectorizer.get_feature_names())[top_indices],\n",
    "                                 'importance': importances[top_indices]})\n",
    "\n",
    "sns.barplot(x=\"most_important_words\", y=\"importance\", data=words_importance);\n",
    "plt.title('')"
   ]
  },
  {
   "cell_type": "markdown",
   "metadata": {},
   "source": [
    "So now we have the most important words on average on the training set. The most important words make sense, but\n",
    "* We don't know if a word contributes positively or negatively\n",
    "* The feature importance attribute is specific to tree-based models\n",
    "* If we don't undestand a specific prediction, it is hard to investigate the decision of the model\n",
    "\n",
    "For the last point there is a work-around: we can compute the model importance of the words that are present in a specific text. \n",
    "\n",
    "Here is an example:"
   ]
  },
  {
   "cell_type": "code",
   "execution_count": 5,
   "metadata": {
    "collapsed": false
   },
   "outputs": [
    {
     "name": "stdout",
     "output_type": "stream",
     "text": [
      "every great gangster movie has <oov> of human drama. don't expect an emotional story of guilt, <oov> and despair from <oov> this is a tale of <oov> <oov> corruption, and power. the darker side of the <oov> \\\"american <oov> /><br <oov> complaining about the <oov> of this film is missing the point. the superficial characters, cheesy music, and dated fashions further fuel the criticism of this life of diabolical <oov> nothing in the lives of these characters really matter, not on any human level at least. in fact the film practically <oov> satire, ironic considering all the <oov> <oov> that were positively inspired by the lifestyle of tony <oov> /><br />this isn't brian <oov> strongest directorial effort, it is occasionally excellent and <oov> (particularly the memorable <oov> but frequently sinks to sloppy and <oov> thankfully, it is supported by a very strong script by oliver stone (probably good therapy for him, considering the coke habit he was <oov> at the time). the themes are <oov> with the focus primarily on the life of tony <oov> and the evolution of his character as he is consumed by greed and power. the dialogue is also excellent, <oov> <oov> between humour and drama. there are many <oov> lines, which have since <oov> their way into popular culture in one form or another.<br /><br />the cast help make it what it is as well, but this is really pacino's film. one of his earlier less subtle performances (something much more common from him <oov> this is a world entirely separate from michael <oov> and frank <oov> yet he is as watchable here as ever, in very entertaining (and intentionally <oov> form. it is hard to imagine another tony montana after seeing this film, in possibly one of the most <oov> performances ever. pfeiffer stood out as dull and uncomfortable on first viewing, but i've come to realize how she plays out the part of the bored little wife. not an exceptional effort, but unfairly <oov> the supporting players are very good too, particularly paul <oov> as the suave <oov> <oov> /><br <oov> occasionally humorous, sometimes shocking, and continually <oov> <oov> is one of the films of the eighties <oov> that might mean to <oov> an essential and accessible gangster flick, and a <oov> <oov> <oov>\n",
      "--------------------------------------------------\n",
      "Probability(positive) = 0.559845952262\n",
      "True class: positive\n"
     ]
    }
   ],
   "source": [
    "# We choose a sample from test set\n",
    "idx = 4\n",
    "text_sample = texts_test[idx]\n",
    "class_names = ['negative', 'positive']\n",
    "\n",
    "print(text_sample)\n",
    "print('-'*50)\n",
    "print('Probability(positive) =', pipeline.predict_proba([text_sample])[0,1])\n",
    "print('True class: %s' % class_names[y_test[idx]])"
   ]
  },
  {
   "cell_type": "code",
   "execution_count": 6,
   "metadata": {
    "collapsed": false
   },
   "outputs": [
    {
     "data": {
      "text/plain": [
       "<matplotlib.axes._subplots.AxesSubplot at 0x1125c5160>"
      ]
     },
     "execution_count": 6,
     "metadata": {},
     "output_type": "execute_result"
    },
    {
     "data": {
      "image/png": "[encoded data removed]",
      "text/plain": [
       "<matplotlib.figure.Figure at 0x13182ee10>"
      ]
     },
     "metadata": {},
     "output_type": "display_data"
    }
   ],
   "source": [
    "sample_importances = (vectorizer.transform([text_sample]).toarray()*importances).flatten()\n",
    "sample_top_indices = np.argsort(sample_importances)[::-1][:10]\n",
    "sample_words_importance = pd.DataFrame(\n",
    "    {'most_important_words': np.array(vectorizer.get_feature_names())[sample_top_indices],\n",
    "    'importance': sample_importances[sample_top_indices]})\n",
    "\n",
    "sns.barplot(x=\"most_important_words\", y=\"importance\", data=sample_words_importance)"
   ]
  },
  {
   "cell_type": "markdown",
   "metadata": {},
   "source": [
    "### Example specific analysis with LIME\n",
    "In their article [“Why Should I Trust You?” Explaining the Predictions of Any Classifier](https://arxiv.org/abs/1602.04938), Marco Ribeiro and his collaborators introduce a new framework for machine learning models interpretation called LIME (Local Interpretable Model-agnostic Explanations). \n",
    "\n",
    "The purpose of LIME is to give an interpretable explanation for a given input sample prediction, by approximating the model to be explained $f$ by an \"explanation model\" $g$ that is linear and has an interpretable domain. While your original model may operate on a complex vector space such as the TF-IDF representation of a text, or the HOG features of a picture, the explanation model's domain is a human interpretable one, such as a vector indicating the presence or absence of a few critical words in a text.\n",
    "\n",
    "LIME requires:\n",
    "* a mapping $x\\rightarrow x'$ of the model input vector to an interpretable representation $\\{0,1\\}^{d'}$. Here, while the original $x$ may be a complex vector in $\\mathbb{R}^n$, the vector $x'$ just indicates the absence/ presence of basic features (words for text, pixels for pictures).\n",
    "* A proximity measure function $\\Pi_{x}$ measuring closeness to the sample $x$ under scrutiny. Usually a normal distribution over the distance (cosine distance for texts, L2-norm for pictures) \n",
    "* A choice for the interpetable model $g$. The first choice is a linear model (i.e. a linear regression for regression and a logistic regression for classification).\n",
    "\n",
    "\n",
    "Technically, LIME optimizes the sum of the local fidelity $$\\mathcal{L}(f, g, \\Pi_x)= \\sum_{z, z'} \\Pi_x(z) \\left[f(z) - g(z') \\right]^2$$ \n",
    "under the constraint to have less than $K$ non-zero weights. Simple examples can be found on the [Github repository of the project](https://marcotcr.github.io/lime/tutorials/Lime%20-%20basic%20usage%2C%20two%20class%20case.html).\n"
   ]
  },
  {
   "cell_type": "code",
   "execution_count": 7,
   "metadata": {
    "collapsed": false
   },
   "outputs": [
    {
     "name": "stderr",
     "output_type": "stream",
     "text": [
      "/Users/nthiebaut/anaconda/envs/nlp/lib/python3.6/re.py:212: FutureWarning: split() requires a non-empty pattern match.\n",
      "  return _compile(pattern, flags).split(string, maxsplit)\n"
     ]
    },
    {
     "data": {
      "image/png": "[encoded data removed]",
      "text/plain": [
       "<matplotlib.figure.Figure at 0x131c4f8d0>"
      ]
     },
     "metadata": {},
     "output_type": "display_data"
    }
   ],
   "source": [
    "from collections import OrderedDict\n",
    "from lime.lime_text import LimeTextExplainer\n",
    "\n",
    "explainer = LimeTextExplainer(class_names=class_names)\n",
    "explanation = explainer.explain_instance(text_sample, pipeline.predict_proba, num_features=10)\n",
    "\n",
    "weights = OrderedDict(explanation.as_list())\n",
    "lime_weights = pd.DataFrame({'words': list(weights.keys()), 'weights': list(weights.values())})\n",
    "\n",
    "sns.barplot(x=\"words\", y=\"weights\", data=lime_weights);"
   ]
  },
  {
   "cell_type": "markdown",
   "metadata": {},
   "source": [
    "LIME managed to extract mostly the same important word as the model itself, without knowing anything about it! We now have rational numbers, allowing the human interpreter to understand what words were the most important. Also, this technique can be replicated instantly for any model, so let's try with a neural network! (next blog post :)"
   ]
  }
 ],
 "metadata": {
  "anaconda-cloud": {},
  "kernelspec": {
   "display_name": "Python [conda env:nlp]",
   "language": "python",
   "name": "conda-env-nlp-py"
  },
  "language_info": {
   "codemirror_mode": {
    "name": "ipython",
    "version": 3
   },
   "file_extension": ".py",
   "mimetype": "text/x-python",
   "name": "python",
   "nbconvert_exporter": "python",
   "pygments_lexer": "ipython3",
   "version": "3.6.1"
  }
 },
 "nbformat": 4,
 "nbformat_minor": 2
}
